{
 "cells": [
  {
   "cell_type": "code",
   "execution_count": 4,
   "id": "3c08a4e6",
   "metadata": {},
   "outputs": [],
   "source": [
    "import cv2\n",
    "import string\n",
    "import random\n",
    "import matplotlib.pyplot as plt"
   ]
  },
  {
   "cell_type": "code",
   "execution_count": 5,
   "id": "9c237399",
   "metadata": {},
   "outputs": [],
   "source": [
    "#utility func\n",
    "def strToBin(data):\n",
    "    newd = ''\n",
    "    for i in data:\n",
    "        newd += format(ord(i), '08b')\n",
    "    return newd\n",
    "def binToStr(inp):\n",
    "    str_data = ''\n",
    "    for i in range(0, len(inp), 8):\n",
    "        str_data = str_data + chr(int(inp[i:i + 8], 2))\n",
    "    return str_data\n",
    "\n",
    "def get_random_string(length):\n",
    "    # choose from all lowercase letter\n",
    "    letters = string.ascii_lowercase\n",
    "    result_str = ''.join(random.choice(letters) for i in range(length))\n",
    "    return strToBin(result_str)"
   ]
  },
  {
   "cell_type": "code",
   "execution_count": 6,
   "id": "caffdc44",
   "metadata": {},
   "outputs": [],
   "source": [
    "def encrypt():\n",
    "    print(\"please enter message :\")\n",
    "    massage = input()   \n",
    "    key =  get_random_string(len(massage))\n",
    "    massage = strToBin(massage)\n",
    "\n",
    "    print('your random key is :', binToStr(key))\n",
    "    img = cv2.imread('image_2.jpg')\n",
    "    for i in range(852):\n",
    "        for j in range(1280):\n",
    "            if ((i+1)*(j))%8 == 0 and len(str(massage))-1>((i+1)*(j)):  #sentinel val \n",
    "                temp = bin(img[i][j][2]).replace(\"0b\", \"\")\n",
    "                temp = temp[:-1] + '1'\n",
    "                img[i][j][2] = str(int(temp, 2))\n",
    "\n",
    "            elif ((i+1)*(j))%8 == 0 and (len(str(massage))+2>((i+1)*(j))):  #sentinel val \n",
    "                temp = bin(img[i][j][2]).replace(\"0b\", \"\")\n",
    "                temp = temp[:-1] + '0'\n",
    "                img[i][j][2] = str(int(temp, 2))\n",
    "                break\n",
    "\n",
    "            if len(str(massage))>((i+1)*(j)) and ((int(key[(i+1)*(j)]) ^ int(bin(img[i][j][2]).replace(\"0b\", \"\")[-1])) == 0): #blue\n",
    "                temp = bin(img[i][j][0]).replace(\"0b\", \"\")\n",
    "                temp = temp[:-1] + massage[(i+1)*(j)]\n",
    "                img[i][j][0] = str(int(temp, 2))\n",
    "\n",
    "            elif (len(str(massage))>((i+1)*(j))) and ((int(key[(i+1)*(j)]) ^ int(bin(img[i][j][2]).replace(\"0b\", \"\")[-1])) == 1) : #green\n",
    "                temp = bin(img[i][j][1]).replace(\"0b\", \"\")\n",
    "                temp = temp[:-1] + massage[(i+1)*(j)]\n",
    "                img[i][j][1] = str(int(temp, 2))\n",
    "            else :\n",
    "                break\n",
    "        else:\n",
    "            # Continue if the inner loop wasn't broken.\n",
    "            continue\n",
    "        # Inner loop was broken, break the outer.\n",
    "        break                                  \n",
    "\n",
    "    cv2.imwrite(\"encryptedimage.bmp\", img)\n",
    "    cv2.imshow('image', img)\n",
    "    cv2.waitKey(4000) \n",
    "    cv2.destroyWindow('image')"
   ]
  },
  {
   "cell_type": "code",
   "execution_count": 7,
   "id": "1258916e",
   "metadata": {},
   "outputs": [],
   "source": [
    "def decrypt():\n",
    "    print(\"please enter key :\")\n",
    "    key = input()\n",
    "    key = strToBin(key)\n",
    "    msg = ''\n",
    "    img = cv2.imread('encryptedimage.bmp')\n",
    "    for i in range(852):\n",
    "        for j in range(1280):\n",
    "            if ((i+1)*(j))%8 == 0:  #sentinel val  \n",
    "                temp = bin(img[i][j][2]).replace(\"0b\", \"\")\n",
    "                temp = temp[:-1] + '0'\n",
    "                if img[i][j][2] == int(temp, 2):\n",
    "                    break\n",
    "            if len(key)> (i+1)*j:\n",
    "                if ((int(key[(i+1)*(j)]) ^ int(bin(img[i][j][2]).replace(\"0b\", \"\")[-1])) == 0): #blue\n",
    "                    tem = str(bin(img[i][j][0]).replace(\"0b\", \"\"))\n",
    "                    msg += tem[-1]\n",
    "                elif ((int(key[(i+1)*(j)]) ^ int(bin(img[i][j][2]).replace(\"0b\", \"\")[-1])) == 1): #green\n",
    "                    tem = str(bin(img[i][j][1]).replace(\"0b\", \"\"))\n",
    "                    msg += tem[-1]\n",
    "        else:\n",
    "            # Continue if the inner loop wasn't broken.\n",
    "            continue\n",
    "        # Inner loop was broken, break the outer.\n",
    "        break       \n",
    "    print('your message is :' , binToStr(msg))"
   ]
  },
  {
   "cell_type": "code",
   "execution_count": null,
   "id": "5a8d4a9a",
   "metadata": {},
   "outputs": [],
   "source": [
    "def main():\n",
    "    while(True):\n",
    "\n",
    "        print(\"welcome \\n please enter a number \\n 1: encrypt image \\n 2: decrypt image\"\n",
    "              \"\\n 3: exit\")\n",
    "        inp = int(input())\n",
    "        if inp == 1:\n",
    "            encrypt()\n",
    "        elif inp == 2:\n",
    "            decrypt()\n",
    "        else :\n",
    "            break\n",
    "main()"
   ]
  }
 ],
 "metadata": {
  "kernelspec": {
   "display_name": "Python 3",
   "language": "python",
   "name": "python3"
  },
  "language_info": {
   "codemirror_mode": {
    "name": "ipython",
    "version": 3
   },
   "file_extension": ".py",
   "mimetype": "text/x-python",
   "name": "python",
   "nbconvert_exporter": "python",
   "pygments_lexer": "ipython3",
   "version": "3.10.6"
  },
  "vscode": {
   "interpreter": {
    "hash": "2469a70536e4d2335a2ea8907942d0699c37342a371ac185bdb5b0aa6f073890"
   }
  }
 },
 "nbformat": 4,
 "nbformat_minor": 5
}
